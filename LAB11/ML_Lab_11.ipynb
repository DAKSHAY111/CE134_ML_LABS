{
  "nbformat": 4,
  "nbformat_minor": 0,
  "metadata": {
    "colab": {
      "provenance": [],
      "authorship_tag": "ABX9TyNdasnvU0POut9vP30ADgCg",
      "include_colab_link": true
    },
    "kernelspec": {
      "name": "python3",
      "display_name": "Python 3"
    },
    "language_info": {
      "name": "python"
    }
  },
  "cells": [
    {
      "cell_type": "markdown",
      "metadata": {
        "id": "view-in-github",
        "colab_type": "text"
      },
      "source": [
        "<a href=\"https://colab.research.google.com/github/DAKSHAY111/CE134_ML_LABS/blob/main/LAB11/ML_Lab_11.ipynb\" target=\"_parent\"><img src=\"https://colab.research.google.com/assets/colab-badge.svg\" alt=\"Open In Colab\"/></a>"
      ]
    },
    {
      "cell_type": "code",
      "execution_count": 1,
      "metadata": {
        "colab": {
          "base_uri": "https://localhost:8080/"
        },
        "id": "q_yzcX49q1nu",
        "outputId": "4a83311d-b137-457e-983b-7f8106b00c01"
      },
      "outputs": [
        {
          "output_type": "stream",
          "name": "stdout",
          "text": [
            "Accuracy 0.9649122807017544\n",
            "Precision 0.9411764705882353\n",
            "Recall 1.0\n",
            "              precision    recall  f1-score   support\n",
            "\n",
            "           0       1.00      0.92      0.96        50\n",
            "           1       0.94      1.00      0.97        64\n",
            "\n",
            "    accuracy                           0.96       114\n",
            "   macro avg       0.97      0.96      0.96       114\n",
            "weighted avg       0.97      0.96      0.96       114\n",
            "\n"
          ]
        }
      ],
      "source": [
        "import sys, os\n",
        "import matplotlib.pyplot as plt\n",
        "from sklearn import svm\n",
        "from sklearn.model_selection import train_test_split\n",
        "import numpy as np\n",
        "import pandas as pd\n",
        "from sklearn.datasets import make_blobs, load_breast_cancer, load_digits\n",
        "from sklearn.metrics import accuracy_score, precision_score, recall_score, classification_report\n",
        "from mlxtend.plotting import plot_decision_regions\n",
        "\n",
        "data = load_breast_cancer()\n",
        "features = data.data\n",
        "labels = data.target\n",
        "\n",
        "model = svm.SVC(kernel='linear')\n",
        "\n",
        "trainX, testX, trainL, testL = train_test_split(features, labels, random_state=132, test_size=0.2)\n",
        "model.fit(trainX, trainL)\n",
        "\n",
        "predicted = model.predict(testX)\n",
        "\n",
        "print('Accuracy {}'.format(accuracy_score(testL, predicted)))\n",
        "print('Precision {}'.format(precision_score(testL, predicted)))\n",
        "print('Recall {}'.format(recall_score(testL, predicted)))\n",
        "\n",
        "print(classification_report(testL, predicted))"
      ]
    },
    {
      "cell_type": "code",
      "source": [
        "import sys, os\n",
        "import matplotlib.pyplot as plt\n",
        "from sklearn import svm\n",
        "from sklearn.model_selection import train_test_split\n",
        "import numpy as np\n",
        "import pandas as pd\n",
        "from sklearn.datasets import make_blobs, load_breast_cancer, load_digits\n",
        "from sklearn.metrics import accuracy_score, precision_score, recall_score, classification_report\n",
        "from mlxtend.plotting import plot_decision_regions\n",
        "\n",
        "data = load_breast_cancer()\n",
        "features = data.data\n",
        "labels = data.target\n",
        "\n",
        "model = svm.SVC(kernel='poly')\n",
        "\n",
        "trainX, testX, trainL, testL = train_test_split(features, labels, random_state=132, test_size=0.2)\n",
        "model.fit(trainX, trainL)\n",
        "\n",
        "predicted = model.predict(testX)\n",
        "\n",
        "print('Accuracy {}'.format(accuracy_score(testL, predicted)))\n",
        "print('Precision {}'.format(precision_score(testL, predicted)))\n",
        "print('Recall {}'.format(recall_score(testL, predicted)))\n",
        "\n",
        "print(classification_report(testL, predicted))"
      ],
      "metadata": {
        "colab": {
          "base_uri": "https://localhost:8080/"
        },
        "id": "TW4bxTTkq_fE",
        "outputId": "139c337c-ed4b-42bc-d386-657a42157a57"
      },
      "execution_count": 2,
      "outputs": [
        {
          "output_type": "stream",
          "name": "stdout",
          "text": [
            "Accuracy 0.868421052631579\n",
            "Precision 0.8266666666666667\n",
            "Recall 0.96875\n",
            "              precision    recall  f1-score   support\n",
            "\n",
            "           0       0.95      0.74      0.83        50\n",
            "           1       0.83      0.97      0.89        64\n",
            "\n",
            "    accuracy                           0.87       114\n",
            "   macro avg       0.89      0.85      0.86       114\n",
            "weighted avg       0.88      0.87      0.87       114\n",
            "\n"
          ]
        }
      ]
    },
    {
      "cell_type": "code",
      "source": [
        "import sys, os\n",
        "import matplotlib.pyplot as plt\n",
        "from sklearn import svm\n",
        "from sklearn.model_selection import train_test_split\n",
        "import numpy as np\n",
        "import pandas as pd\n",
        "from sklearn.datasets import make_blobs, load_breast_cancer, load_digits\n",
        "from sklearn.metrics import accuracy_score, precision_score, recall_score, classification_report\n",
        "from mlxtend.plotting import plot_decision_regions\n",
        "\n",
        "data = load_breast_cancer()\n",
        "features = data.data\n",
        "labels = data.target\n",
        "\n",
        "model = svm.SVC(kernel='rbf')\n",
        "\n",
        "trainX, testX, trainL, testL = train_test_split(features, labels, random_state=132, test_size=0.2)\n",
        "model.fit(trainX, trainL)\n",
        "\n",
        "predicted = model.predict(testX)\n",
        "\n",
        "print('Accuracy {}'.format(accuracy_score(testL, predicted)))\n",
        "print('Precision {}'.format(precision_score(testL, predicted)))\n",
        "print('Recall {}'.format(recall_score(testL, predicted)))\n",
        "\n",
        "print(classification_report(testL, predicted))"
      ],
      "metadata": {
        "colab": {
          "base_uri": "https://localhost:8080/"
        },
        "id": "3mvCwLePrBgO",
        "outputId": "81301ee0-83aa-4ebb-b05d-02ca1ca5ed5d"
      },
      "execution_count": 3,
      "outputs": [
        {
          "output_type": "stream",
          "name": "stdout",
          "text": [
            "Accuracy 0.8771929824561403\n",
            "Precision 0.8378378378378378\n",
            "Recall 0.96875\n",
            "              precision    recall  f1-score   support\n",
            "\n",
            "           0       0.95      0.76      0.84        50\n",
            "           1       0.84      0.97      0.90        64\n",
            "\n",
            "    accuracy                           0.88       114\n",
            "   macro avg       0.89      0.86      0.87       114\n",
            "weighted avg       0.89      0.88      0.87       114\n",
            "\n"
          ]
        }
      ]
    },
    {
      "cell_type": "code",
      "source": [
        "import sys, os\n",
        "import matplotlib.pyplot as plt\n",
        "from sklearn import svm\n",
        "from sklearn.model_selection import train_test_split\n",
        "import numpy as np\n",
        "import pandas as pd\n",
        "from sklearn.datasets import make_blobs, load_breast_cancer, load_digits\n",
        "from sklearn.metrics import accuracy_score, precision_score, recall_score, classification_report\n",
        "from mlxtend.plotting import plot_decision_regions\n",
        "\n",
        "data = load_digits()\n",
        "features = data.data\n",
        "labels = data.target\n",
        "\n",
        "model = svm.SVC(kernel='linear')\n",
        "\n",
        "trainX, testX, trainL, testL = train_test_split(features, labels, random_state=132, test_size=0.2)\n",
        "model.fit(trainX, trainL)\n",
        "\n",
        "predicted = model.predict(testX)\n",
        "\n",
        "print('Accuracy {}'.format(accuracy_score(testL, predicted)))\n",
        "print('Precision {}'.format(precision_score(testL, predicted, average='weighted')))\n",
        "print('Recall {}'.format(recall_score(testL, predicted, average='weighted')))\n",
        "\n",
        "print(classification_report(testL, predicted))"
      ],
      "metadata": {
        "colab": {
          "base_uri": "https://localhost:8080/"
        },
        "id": "-zWiDVkQrDeR",
        "outputId": "71ccb305-3097-4ab1-b5df-004f9403e4ce"
      },
      "execution_count": 4,
      "outputs": [
        {
          "output_type": "stream",
          "name": "stdout",
          "text": [
            "Accuracy 0.9888888888888889\n",
            "Precision 0.9891093474426808\n",
            "Recall 0.9888888888888889\n",
            "              precision    recall  f1-score   support\n",
            "\n",
            "           0       1.00      1.00      1.00        39\n",
            "           1       0.98      1.00      0.99        41\n",
            "           2       1.00      1.00      1.00        32\n",
            "           3       1.00      1.00      1.00        28\n",
            "           4       1.00      1.00      1.00        27\n",
            "           5       1.00      0.97      0.99        38\n",
            "           6       1.00      1.00      1.00        49\n",
            "           7       1.00      1.00      1.00        46\n",
            "           8       0.92      0.96      0.94        23\n",
            "           9       0.97      0.95      0.96        37\n",
            "\n",
            "    accuracy                           0.99       360\n",
            "   macro avg       0.99      0.99      0.99       360\n",
            "weighted avg       0.99      0.99      0.99       360\n",
            "\n"
          ]
        }
      ]
    },
    {
      "cell_type": "code",
      "source": [
        "import sys, os\n",
        "import matplotlib.pyplot as plt\n",
        "from sklearn import svm\n",
        "from sklearn.model_selection import train_test_split\n",
        "import numpy as np\n",
        "import pandas as pd\n",
        "from sklearn.datasets import make_blobs, load_breast_cancer, load_digits\n",
        "from sklearn.metrics import accuracy_score, precision_score, recall_score, classification_report\n",
        "from mlxtend.plotting import plot_decision_regions\n",
        "\n",
        "data = load_digits()\n",
        "features = data.data\n",
        "labels = data.target\n",
        "\n",
        "model = svm.SVC(kernel='poly')\n",
        "\n",
        "trainX, testX, trainL, testL = train_test_split(features, labels, random_state=132, test_size=0.2)\n",
        "model.fit(trainX, trainL)\n",
        "\n",
        "predicted = model.predict(testX)\n",
        "\n",
        "print('Accuracy {}'.format(accuracy_score(testL, predicted)))\n",
        "print('Precision {}'.format(precision_score(testL, predicted, average='weighted')))\n",
        "print('Recall {}'.format(recall_score(testL, predicted, average='weighted')))\n",
        "\n",
        "print(classification_report(testL, predicted))"
      ],
      "metadata": {
        "colab": {
          "base_uri": "https://localhost:8080/"
        },
        "id": "KwgqQid6rGWa",
        "outputId": "f8e2ee74-34d9-4749-f6e4-96b3679c5415"
      },
      "execution_count": 5,
      "outputs": [
        {
          "output_type": "stream",
          "name": "stdout",
          "text": [
            "Accuracy 0.9888888888888889\n",
            "Precision 0.9893553791887126\n",
            "Recall 0.9888888888888889\n",
            "              precision    recall  f1-score   support\n",
            "\n",
            "           0       1.00      1.00      1.00        39\n",
            "           1       1.00      1.00      1.00        41\n",
            "           2       1.00      1.00      1.00        32\n",
            "           3       1.00      1.00      1.00        28\n",
            "           4       0.96      1.00      0.98        27\n",
            "           5       1.00      0.95      0.97        38\n",
            "           6       1.00      1.00      1.00        49\n",
            "           7       1.00      1.00      1.00        46\n",
            "           8       0.92      1.00      0.96        23\n",
            "           9       0.97      0.95      0.96        37\n",
            "\n",
            "    accuracy                           0.99       360\n",
            "   macro avg       0.99      0.99      0.99       360\n",
            "weighted avg       0.99      0.99      0.99       360\n",
            "\n"
          ]
        }
      ]
    },
    {
      "cell_type": "code",
      "source": [
        "import sys, os\n",
        "import matplotlib.pyplot as plt\n",
        "from sklearn import svm\n",
        "from sklearn.model_selection import train_test_split\n",
        "import numpy as np\n",
        "import pandas as pd\n",
        "from sklearn.datasets import make_blobs, load_breast_cancer, load_digits\n",
        "from sklearn.metrics import accuracy_score, precision_score, recall_score, classification_report\n",
        "from mlxtend.plotting import plot_decision_regions\n",
        "\n",
        "data = load_digits()\n",
        "features = data.data\n",
        "labels = data.target\n",
        "\n",
        "# decreasing value of C tends to reduce accuracy of the model\n",
        "model = svm.SVC(kernel='poly', C=1000)\n",
        "\n",
        "trainX, testX, trainL, testL = train_test_split(features, labels, random_state=132, test_size=0.2)\n",
        "model.fit(trainX, trainL)\n",
        "\n",
        "predicted = model.predict(testX)\n",
        "\n",
        "print('Accuracy {}'.format(accuracy_score(testL, predicted)))\n",
        "print('Precision {}'.format(precision_score(testL, predicted, average='weighted')))\n",
        "print('Recall {}'.format(recall_score(testL, predicted, average='weighted')))\n",
        "\n",
        "print(classification_report(testL, predicted))"
      ],
      "metadata": {
        "colab": {
          "base_uri": "https://localhost:8080/"
        },
        "id": "WOAvfWvNrHHG",
        "outputId": "3265ab17-3909-4aa1-c223-c3b3de549eec"
      },
      "execution_count": 6,
      "outputs": [
        {
          "output_type": "stream",
          "name": "stdout",
          "text": [
            "Accuracy 0.9888888888888889\n",
            "Precision 0.9893553791887126\n",
            "Recall 0.9888888888888889\n",
            "              precision    recall  f1-score   support\n",
            "\n",
            "           0       1.00      1.00      1.00        39\n",
            "           1       1.00      1.00      1.00        41\n",
            "           2       1.00      1.00      1.00        32\n",
            "           3       1.00      1.00      1.00        28\n",
            "           4       0.96      1.00      0.98        27\n",
            "           5       1.00      0.95      0.97        38\n",
            "           6       1.00      1.00      1.00        49\n",
            "           7       1.00      1.00      1.00        46\n",
            "           8       0.92      1.00      0.96        23\n",
            "           9       0.97      0.95      0.96        37\n",
            "\n",
            "    accuracy                           0.99       360\n",
            "   macro avg       0.99      0.99      0.99       360\n",
            "weighted avg       0.99      0.99      0.99       360\n",
            "\n"
          ]
        }
      ]
    },
    {
      "cell_type": "code",
      "source": [
        "import sys, os\n",
        "import matplotlib.pyplot as plt\n",
        "from sklearn import svm\n",
        "from sklearn.model_selection import train_test_split\n",
        "import numpy as np\n",
        "import pandas as pd\n",
        "from sklearn.datasets import make_blobs, load_breast_cancer, load_digits\n",
        "from sklearn.metrics import accuracy_score, precision_score, recall_score, classification_report\n",
        "from mlxtend.plotting import plot_decision_regions\n",
        "\n",
        "data = load_digits()\n",
        "features = data.data\n",
        "labels = data.target\n",
        "\n",
        "model = svm.SVC(kernel='rbf')\n",
        "\n",
        "trainX, testX, trainL, testL = train_test_split(features, labels, random_state=132, test_size=0.2)\n",
        "model.fit(trainX, trainL)\n",
        "\n",
        "predicted = model.predict(testX)\n",
        "\n",
        "print('Accuracy {}'.format(accuracy_score(testL, predicted)))\n",
        "print('Precision {}'.format(precision_score(testL, predicted, average='weighted')))\n",
        "print('Recall {}'.format(recall_score(testL, predicted, average='weighted')))\n",
        "\n",
        "print(classification_report(testL, predicted))"
      ],
      "metadata": {
        "colab": {
          "base_uri": "https://localhost:8080/"
        },
        "id": "K-naY_ZfrJIu",
        "outputId": "12c55204-21bf-4db1-89de-840c5b436a79"
      },
      "execution_count": 7,
      "outputs": [
        {
          "output_type": "stream",
          "name": "stdout",
          "text": [
            "Accuracy 0.9916666666666667\n",
            "Precision 0.992033950617284\n",
            "Recall 0.9916666666666667\n",
            "              precision    recall  f1-score   support\n",
            "\n",
            "           0       1.00      1.00      1.00        39\n",
            "           1       1.00      1.00      1.00        41\n",
            "           2       1.00      1.00      1.00        32\n",
            "           3       1.00      1.00      1.00        28\n",
            "           4       1.00      0.96      0.98        27\n",
            "           5       1.00      1.00      1.00        38\n",
            "           6       1.00      1.00      1.00        49\n",
            "           7       1.00      1.00      1.00        46\n",
            "           8       0.92      1.00      0.96        23\n",
            "           9       0.97      0.95      0.96        37\n",
            "\n",
            "    accuracy                           0.99       360\n",
            "   macro avg       0.99      0.99      0.99       360\n",
            "weighted avg       0.99      0.99      0.99       360\n",
            "\n"
          ]
        }
      ]
    },
    {
      "cell_type": "code",
      "source": [
        "import sys, os\n",
        "import matplotlib.pyplot as plt\n",
        "from sklearn import svm\n",
        "from sklearn.model_selection import train_test_split\n",
        "import numpy as np\n",
        "import pandas as pd\n",
        "from sklearn.datasets import make_blobs, load_breast_cancer, load_digits\n",
        "from sklearn.metrics import accuracy_score, precision_score, recall_score, classification_report\n",
        "from mlxtend.plotting import plot_decision_regions\n",
        "\n",
        "data = load_digits()\n",
        "features = data.data\n",
        "labels = data.target\n",
        "\n",
        "# decreasing value of C tends to reduce accuracy of the model\n",
        "model = svm.SVC(kernel='rbf', C=100000)\n",
        "\n",
        "trainX, testX, trainL, testL = train_test_split(features, labels, random_state=132, test_size=0.2)\n",
        "model.fit(trainX, trainL)\n",
        "\n",
        "predicted = model.predict(testX)\n",
        "\n",
        "print('Accuracy {}'.format(accuracy_score(testL, predicted)))\n",
        "print('Precision {}'.format(precision_score(testL, predicted, average='weighted')))\n",
        "print('Recall {}'.format(recall_score(testL, predicted, average='weighted')))\n",
        "\n",
        "print(classification_report(testL, predicted))"
      ],
      "metadata": {
        "colab": {
          "base_uri": "https://localhost:8080/"
        },
        "id": "aFZ6rXEFrLBw",
        "outputId": "e297fc59-06f5-46f6-ae8f-182c3c25f18f"
      },
      "execution_count": 8,
      "outputs": [
        {
          "output_type": "stream",
          "name": "stdout",
          "text": [
            "Accuracy 0.9916666666666667\n",
            "Precision 0.992033950617284\n",
            "Recall 0.9916666666666667\n",
            "              precision    recall  f1-score   support\n",
            "\n",
            "           0       1.00      1.00      1.00        39\n",
            "           1       1.00      1.00      1.00        41\n",
            "           2       1.00      1.00      1.00        32\n",
            "           3       1.00      1.00      1.00        28\n",
            "           4       1.00      1.00      1.00        27\n",
            "           5       1.00      0.97      0.99        38\n",
            "           6       1.00      1.00      1.00        49\n",
            "           7       1.00      1.00      1.00        46\n",
            "           8       0.92      1.00      0.96        23\n",
            "           9       0.97      0.95      0.96        37\n",
            "\n",
            "    accuracy                           0.99       360\n",
            "   macro avg       0.99      0.99      0.99       360\n",
            "weighted avg       0.99      0.99      0.99       360\n",
            "\n"
          ]
        }
      ]
    }
  ]
}